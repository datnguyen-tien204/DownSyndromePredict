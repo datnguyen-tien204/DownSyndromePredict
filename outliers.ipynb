{
 "cells": [
  {
   "cell_type": "code",
   "execution_count": 3,
   "metadata": {
    "collapsed": true,
    "ExecuteTime": {
     "end_time": "2023-07-27T03:29:40.845754500Z",
     "start_time": "2023-07-27T03:29:40.788622200Z"
    }
   },
   "outputs": [
    {
     "name": "stdout",
     "output_type": "stream",
     "text": [
      "Filtered DataFrame:\n",
      "Empty DataFrame\n",
      "Columns: [Column1, Column2, Column3]\n",
      "Index: []\n",
      "Number of rows removed: 9\n"
     ]
    }
   ],
   "source": [
    "import pandas as pd\n",
    "\n",
    "# Tạo DataFrame ví dụ\n",
    "data = {\n",
    "    'Column1': [10, 12, 15, 18, 22, 25, 28, 30, 100],\n",
    "    'Column2': [5, 8, 10, 12, 15, 20, 22, 25, 50],\n",
    "    'Column3': [2, 4, 6, 8, 10, 12, 14, 16, 100]\n",
    "}\n",
    "\n",
    "df_train = pd.DataFrame(data)\n",
    "\n",
    "# Tính giá trị trung bình và độ lệch chuẩn cho từng cột\n",
    "means = df_train.mean()\n",
    "stds = df_train.std()\n",
    "\n",
    "# Tính Z-score cho toàn bộ DataFrame\n",
    "z_scores = (df_train - means) / stds\n",
    "\n",
    "# Xoá hoàn toàn các hàng có Z-score vượt quá ngưỡng 2\n",
    "filtered_df = df_train.drop(z_scores[abs(z_scores) > 2].index)\n",
    "\n",
    "print(\"Filtered DataFrame:\")\n",
    "print(filtered_df)\n",
    "\n",
    "print(\"Number of rows removed:\", len(df_train) - len(filtered_df))\n"
   ]
  },
  {
   "cell_type": "code",
   "execution_count": null,
   "outputs": [],
   "source": [],
   "metadata": {
    "collapsed": false
   }
  }
 ],
 "metadata": {
  "kernelspec": {
   "display_name": "Python 3",
   "language": "python",
   "name": "python3"
  },
  "language_info": {
   "codemirror_mode": {
    "name": "ipython",
    "version": 2
   },
   "file_extension": ".py",
   "mimetype": "text/x-python",
   "name": "python",
   "nbconvert_exporter": "python",
   "pygments_lexer": "ipython2",
   "version": "2.7.6"
  }
 },
 "nbformat": 4,
 "nbformat_minor": 0
}

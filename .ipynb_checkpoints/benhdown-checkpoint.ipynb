{
 "cells": [
  {
   "cell_type": "code",
   "execution_count": 1,
   "metadata": {
    "ExecuteTime": {
     "end_time": "2023-07-26T07:49:37.829242700Z",
     "start_time": "2023-07-26T07:49:36.845155100Z"
    },
    "collapsed": true
   },
   "outputs": [],
   "source": [
    "import numpy as np\n",
    "import matplotlib.pyplot as plt\n",
    "import pandas as pd\n",
    "import seaborn as sns\n",
    "from sklearn.model_selection import train_test_split"
   ]
  },
  {
   "cell_type": "markdown",
   "metadata": {},
   "source": [
    "### Đọc dữ liệu từ tệp"
   ]
  },
  {
   "cell_type": "code",
   "execution_count": 3,
   "metadata": {
    "ExecuteTime": {
     "end_time": "2023-07-26T07:53:04.001797300Z",
     "start_time": "2023-07-26T07:53:03.961801Z"
    }
   },
   "outputs": [],
   "source": [
    "df_train=pd.read_csv('train_data .csv')"
   ]
  },
  {
   "cell_type": "code",
   "execution_count": 4,
   "metadata": {
    "ExecuteTime": {
     "end_time": "2023-07-26T07:53:14.360312200Z",
     "start_time": "2023-07-26T07:53:14.294308600Z"
    }
   },
   "outputs": [
    {
     "data": {
      "text/html": [
       "<div>\n",
       "<style scoped>\n",
       "    .dataframe tbody tr th:only-of-type {\n",
       "        vertical-align: middle;\n",
       "    }\n",
       "\n",
       "    .dataframe tbody tr th {\n",
       "        vertical-align: top;\n",
       "    }\n",
       "\n",
       "    .dataframe thead th {\n",
       "        text-align: right;\n",
       "    }\n",
       "</style>\n",
       "<table border=\"1\" class=\"dataframe\">\n",
       "  <thead>\n",
       "    <tr style=\"text-align: right;\">\n",
       "      <th></th>\n",
       "      <th>Unnamed: 0</th>\n",
       "      <th>tuoi_me_new</th>\n",
       "      <th>tuoi_thai_new</th>\n",
       "      <th>tiensusinhconhoichungdown</th>\n",
       "      <th>chieudaidaumong</th>\n",
       "      <th>dau_duongkinhluongdinh</th>\n",
       "      <th>dau_chuvidau</th>\n",
       "      <th>mat_moimui</th>\n",
       "      <th>nguc_nhiptimthai</th>\n",
       "      <th>d_mom_pappa</th>\n",
       "      <th>d_mom_hcgb</th>\n",
       "      <th>d_khoangsangsaugay</th>\n",
       "      <th>ketluan_hoichungdown</th>\n",
       "    </tr>\n",
       "  </thead>\n",
       "  <tbody>\n",
       "    <tr>\n",
       "      <th>0</th>\n",
       "      <td>0</td>\n",
       "      <td>36.0</td>\n",
       "      <td>90.0</td>\n",
       "      <td>2.0</td>\n",
       "      <td>61.0</td>\n",
       "      <td>21.0</td>\n",
       "      <td>73.0</td>\n",
       "      <td>1.0</td>\n",
       "      <td>168.0</td>\n",
       "      <td>0.733426</td>\n",
       "      <td>1.769419</td>\n",
       "      <td>1.441032</td>\n",
       "      <td>1.0</td>\n",
       "    </tr>\n",
       "    <tr>\n",
       "      <th>1</th>\n",
       "      <td>1</td>\n",
       "      <td>19.0</td>\n",
       "      <td>88.0</td>\n",
       "      <td>2.0</td>\n",
       "      <td>56.0</td>\n",
       "      <td>19.0</td>\n",
       "      <td>75.0</td>\n",
       "      <td>1.0</td>\n",
       "      <td>153.0</td>\n",
       "      <td>0.760000</td>\n",
       "      <td>1.190000</td>\n",
       "      <td>1.200000</td>\n",
       "      <td>1.0</td>\n",
       "    </tr>\n",
       "    <tr>\n",
       "      <th>2</th>\n",
       "      <td>2</td>\n",
       "      <td>36.0</td>\n",
       "      <td>85.0</td>\n",
       "      <td>2.0</td>\n",
       "      <td>80.6</td>\n",
       "      <td>26.0</td>\n",
       "      <td>99.0</td>\n",
       "      <td>1.0</td>\n",
       "      <td>151.0</td>\n",
       "      <td>0.750698</td>\n",
       "      <td>2.926852</td>\n",
       "      <td>2.973212</td>\n",
       "      <td>2.0</td>\n",
       "    </tr>\n",
       "    <tr>\n",
       "      <th>3</th>\n",
       "      <td>3</td>\n",
       "      <td>39.0</td>\n",
       "      <td>96.0</td>\n",
       "      <td>2.0</td>\n",
       "      <td>77.0</td>\n",
       "      <td>25.0</td>\n",
       "      <td>92.0</td>\n",
       "      <td>1.0</td>\n",
       "      <td>178.0</td>\n",
       "      <td>0.476000</td>\n",
       "      <td>2.286000</td>\n",
       "      <td>1.800000</td>\n",
       "      <td>1.0</td>\n",
       "    </tr>\n",
       "    <tr>\n",
       "      <th>4</th>\n",
       "      <td>4</td>\n",
       "      <td>25.0</td>\n",
       "      <td>115.0</td>\n",
       "      <td>2.0</td>\n",
       "      <td>54.0</td>\n",
       "      <td>19.0</td>\n",
       "      <td>70.0</td>\n",
       "      <td>1.0</td>\n",
       "      <td>170.0</td>\n",
       "      <td>0.793024</td>\n",
       "      <td>1.507242</td>\n",
       "      <td>1.601917</td>\n",
       "      <td>1.0</td>\n",
       "    </tr>\n",
       "  </tbody>\n",
       "</table>\n",
       "</div>"
      ],
      "text/plain": [
       "   Unnamed: 0  tuoi_me_new  tuoi_thai_new  tiensusinhconhoichungdown  \\\n",
       "0           0         36.0           90.0                        2.0   \n",
       "1           1         19.0           88.0                        2.0   \n",
       "2           2         36.0           85.0                        2.0   \n",
       "3           3         39.0           96.0                        2.0   \n",
       "4           4         25.0          115.0                        2.0   \n",
       "\n",
       "   chieudaidaumong  dau_duongkinhluongdinh  dau_chuvidau  mat_moimui  \\\n",
       "0             61.0                    21.0          73.0         1.0   \n",
       "1             56.0                    19.0          75.0         1.0   \n",
       "2             80.6                    26.0          99.0         1.0   \n",
       "3             77.0                    25.0          92.0         1.0   \n",
       "4             54.0                    19.0          70.0         1.0   \n",
       "\n",
       "   nguc_nhiptimthai  d_mom_pappa  d_mom_hcgb  d_khoangsangsaugay  \\\n",
       "0             168.0     0.733426    1.769419            1.441032   \n",
       "1             153.0     0.760000    1.190000            1.200000   \n",
       "2             151.0     0.750698    2.926852            2.973212   \n",
       "3             178.0     0.476000    2.286000            1.800000   \n",
       "4             170.0     0.793024    1.507242            1.601917   \n",
       "\n",
       "   ketluan_hoichungdown  \n",
       "0                   1.0  \n",
       "1                   1.0  \n",
       "2                   2.0  \n",
       "3                   1.0  \n",
       "4                   1.0  "
      ]
     },
     "execution_count": 4,
     "metadata": {},
     "output_type": "execute_result"
    }
   ],
   "source": [
    "df_train.head()"
   ]
  },
  {
   "cell_type": "code",
   "execution_count": 5,
   "metadata": {
    "ExecuteTime": {
     "end_time": "2023-07-26T07:53:40.891424700Z",
     "start_time": "2023-07-26T07:53:40.745428300Z"
    }
   },
   "outputs": [
    {
     "data": {
      "text/html": [
       "<div>\n",
       "<style scoped>\n",
       "    .dataframe tbody tr th:only-of-type {\n",
       "        vertical-align: middle;\n",
       "    }\n",
       "\n",
       "    .dataframe tbody tr th {\n",
       "        vertical-align: top;\n",
       "    }\n",
       "\n",
       "    .dataframe thead th {\n",
       "        text-align: right;\n",
       "    }\n",
       "</style>\n",
       "<table border=\"1\" class=\"dataframe\">\n",
       "  <thead>\n",
       "    <tr style=\"text-align: right;\">\n",
       "      <th></th>\n",
       "      <th>Unnamed: 0</th>\n",
       "      <th>tuoi_me_new</th>\n",
       "      <th>tuoi_thai_new</th>\n",
       "      <th>tiensusinhconhoichungdown</th>\n",
       "      <th>chieudaidaumong</th>\n",
       "      <th>dau_duongkinhluongdinh</th>\n",
       "      <th>dau_chuvidau</th>\n",
       "      <th>mat_moimui</th>\n",
       "      <th>nguc_nhiptimthai</th>\n",
       "      <th>d_mom_pappa</th>\n",
       "      <th>d_mom_hcgb</th>\n",
       "      <th>d_khoangsangsaugay</th>\n",
       "      <th>ketluan_hoichungdown</th>\n",
       "    </tr>\n",
       "  </thead>\n",
       "  <tbody>\n",
       "    <tr>\n",
       "      <th>1727</th>\n",
       "      <td>1727</td>\n",
       "      <td>29.0</td>\n",
       "      <td>87.0</td>\n",
       "      <td>2.0</td>\n",
       "      <td>57.4</td>\n",
       "      <td>20.0</td>\n",
       "      <td>74.0</td>\n",
       "      <td>1.0</td>\n",
       "      <td>164.0</td>\n",
       "      <td>0.810323</td>\n",
       "      <td>2.414203</td>\n",
       "      <td>2.862057</td>\n",
       "      <td>2.0</td>\n",
       "    </tr>\n",
       "    <tr>\n",
       "      <th>1728</th>\n",
       "      <td>1728</td>\n",
       "      <td>29.0</td>\n",
       "      <td>85.0</td>\n",
       "      <td>2.0</td>\n",
       "      <td>53.0</td>\n",
       "      <td>20.0</td>\n",
       "      <td>74.0</td>\n",
       "      <td>1.0</td>\n",
       "      <td>148.0</td>\n",
       "      <td>1.300000</td>\n",
       "      <td>2.460000</td>\n",
       "      <td>2.000000</td>\n",
       "      <td>1.0</td>\n",
       "    </tr>\n",
       "    <tr>\n",
       "      <th>1729</th>\n",
       "      <td>1729</td>\n",
       "      <td>24.0</td>\n",
       "      <td>84.0</td>\n",
       "      <td>2.0</td>\n",
       "      <td>47.0</td>\n",
       "      <td>17.0</td>\n",
       "      <td>64.0</td>\n",
       "      <td>1.0</td>\n",
       "      <td>165.0</td>\n",
       "      <td>0.873329</td>\n",
       "      <td>1.221151</td>\n",
       "      <td>1.561046</td>\n",
       "      <td>1.0</td>\n",
       "    </tr>\n",
       "    <tr>\n",
       "      <th>1730</th>\n",
       "      <td>1730</td>\n",
       "      <td>23.0</td>\n",
       "      <td>86.0</td>\n",
       "      <td>2.0</td>\n",
       "      <td>65.0</td>\n",
       "      <td>23.0</td>\n",
       "      <td>82.0</td>\n",
       "      <td>1.0</td>\n",
       "      <td>154.0</td>\n",
       "      <td>1.100000</td>\n",
       "      <td>1.110000</td>\n",
       "      <td>1.500000</td>\n",
       "      <td>1.0</td>\n",
       "    </tr>\n",
       "    <tr>\n",
       "      <th>1731</th>\n",
       "      <td>1731</td>\n",
       "      <td>44.0</td>\n",
       "      <td>90.0</td>\n",
       "      <td>2.0</td>\n",
       "      <td>75.0</td>\n",
       "      <td>24.0</td>\n",
       "      <td>87.0</td>\n",
       "      <td>1.0</td>\n",
       "      <td>151.0</td>\n",
       "      <td>0.701251</td>\n",
       "      <td>3.112809</td>\n",
       "      <td>2.784760</td>\n",
       "      <td>2.0</td>\n",
       "    </tr>\n",
       "  </tbody>\n",
       "</table>\n",
       "</div>"
      ],
      "text/plain": [
       "      Unnamed: 0  tuoi_me_new  tuoi_thai_new  tiensusinhconhoichungdown  \\\n",
       "1727        1727         29.0           87.0                        2.0   \n",
       "1728        1728         29.0           85.0                        2.0   \n",
       "1729        1729         24.0           84.0                        2.0   \n",
       "1730        1730         23.0           86.0                        2.0   \n",
       "1731        1731         44.0           90.0                        2.0   \n",
       "\n",
       "      chieudaidaumong  dau_duongkinhluongdinh  dau_chuvidau  mat_moimui  \\\n",
       "1727             57.4                    20.0          74.0         1.0   \n",
       "1728             53.0                    20.0          74.0         1.0   \n",
       "1729             47.0                    17.0          64.0         1.0   \n",
       "1730             65.0                    23.0          82.0         1.0   \n",
       "1731             75.0                    24.0          87.0         1.0   \n",
       "\n",
       "      nguc_nhiptimthai  d_mom_pappa  d_mom_hcgb  d_khoangsangsaugay  \\\n",
       "1727             164.0     0.810323    2.414203            2.862057   \n",
       "1728             148.0     1.300000    2.460000            2.000000   \n",
       "1729             165.0     0.873329    1.221151            1.561046   \n",
       "1730             154.0     1.100000    1.110000            1.500000   \n",
       "1731             151.0     0.701251    3.112809            2.784760   \n",
       "\n",
       "      ketluan_hoichungdown  \n",
       "1727                   2.0  \n",
       "1728                   1.0  \n",
       "1729                   1.0  \n",
       "1730                   1.0  \n",
       "1731                   2.0  "
      ]
     },
     "execution_count": 5,
     "metadata": {},
     "output_type": "execute_result"
    }
   ],
   "source": [
    "df_train.tail()"
   ]
  },
  {
   "cell_type": "markdown",
   "metadata": {},
   "source": [
    "## Thông tin về dataset\n",
    "- tuoi_me_new: Tuổi của mẹ khi mang thai, là thông tin quan trọng liên quan đến tuổi của thai nhi và nguy cơ sinh con có hội chứng Down.\n",
    "- tuoi_thai_new: Tuổi của thai nhi, thông thường được tính từ thời điểm bắt đầu thai kỳ. Tuổi này có thể liên quan đến mức độ phát triển của thai nhi và nguy cơ hội chứng Down.\n",
    "- tiensusinhconhoichungdown: Thông tin về việc có bất kỳ tiến triển nào liên quan đến hội chứng Down trong thai kỳ, chẳng hạn như kết quả xét nghiệm hay các dấu hiệu lâm sàng.\n",
    "- chieudaidaumong: Đo lường chiều dài đầu mông của thai nhi, được sử dụng để đánh giá tình trạng phát triển thai nhi.\n",
    "- dau_duongkinhluongdinh: Đo lường kích thước đường kính lưỡng dịch (amniotic fluid index - AFI) trong thai kỳ, dùng để đánh giá sức khỏe của thai nhi và thai phụ.\n",
    "- dau_chuvidau: Đo lường kích thước đầu chu vi đầu của thai nhi, thông tin này cũng liên quan đến tình trạng phát triển của thai nhi.\n",
    "- mat_moimui: Ghi chép về các dấu hiệu của mắt, mũi, miệng của thai nhi, có thể dùng để kiểm tra các dấu hiệu bất thường liên quan đến hội chứng Down.\n",
    "- nguc_nhiptimthai: Đo lường kích thước ngực và tim của thai nhi, thông tin này có thể phản ánh tình trạng sức khỏe của thai nhi.\n",
    "- d_mom_pappa: Thông tin liên quan đến các điểm tựa trong gia đình. Trong gia đình có ai bị hội chứng Down chưa.\n",
    "- d_mom_hcgb: Mức độ hoocmon beta hCG trong máu của mẹ, thường được sử dụng để đánh giá nguy cơ hội chứng Down ở thai nhi.\n",
    "- d_khoangsangsaugay: Kết quả đo khoảng cách từ màng phôi đến đỉnh cơ đầu (cervical length) trong thai kỳ, có liên quan đến nguy cơ sinh non hay không.\n",
    "- ketluan_hoichungdown: Kết luận về khả năng thai nhi có mắc hội chứng Down hay không, thông thường dựa trên kết quả các xét nghiệm và đánh giá sức khỏe của thai nhi trong thai kỳ."
   ]
  },
  {
   "cell_type": "code",
   "execution_count": 8,
   "metadata": {
    "ExecuteTime": {
     "end_time": "2023-07-26T08:04:54.576547400Z",
     "start_time": "2023-07-26T08:04:54.477545200Z"
    }
   },
   "outputs": [
    {
     "data": {
      "text/plain": [
       "1.0    1475\n",
       "2.0     257\n",
       "Name: ketluan_hoichungdown, dtype: int64"
      ]
     },
     "execution_count": 8,
     "metadata": {},
     "output_type": "execute_result"
    }
   ],
   "source": [
    "df_train['ketluan_hoichungdown'].value_counts()"
   ]
  },
  {
   "cell_type": "code",
   "execution_count": 10,
   "metadata": {
    "ExecuteTime": {
     "end_time": "2023-07-26T08:08:11.706098400Z",
     "start_time": "2023-07-26T08:08:11.232098700Z"
    }
   },
   "outputs": [
    {
     "data": {
      "image/png": "[encoded data removed]",
      "text/plain": [
       "<Figure size 432x288 with 1 Axes>"
      ]
     },
     "metadata": {},
     "output_type": "display_data"
    }
   ],
   "source": [
    "sns.countplot(x=\"ketluan_hoichungdown\", data=df_train, palette=\"bwr\")\n",
    "plt.show()"
   ]
  },
  {
   "cell_type": "code",
   "execution_count": null,
   "metadata": {},
   "outputs": [],
   "source": []
  }
 ],
 "metadata": {
  "kernelspec": {
   "display_name": "Python 3 (ipykernel)",
   "language": "python",
   "name": "python3"
  },
  "language_info": {
   "codemirror_mode": {
    "name": "ipython",
    "version": 3
   },
   "file_extension": ".py",
   "mimetype": "text/x-python",
   "name": "python",
   "nbconvert_exporter": "python",
   "pygments_lexer": "ipython3",
   "version": "3.9.7"
  }
 },
 "nbformat": 4,
 "nbformat_minor": 1
}
